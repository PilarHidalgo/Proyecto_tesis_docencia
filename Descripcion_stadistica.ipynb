{
  "nbformat": 4,
  "nbformat_minor": 0,
  "metadata": {
    "colab": {
      "name": "Descripcion_stadistica.ipynb",
      "provenance": [],
      "collapsed_sections": []
    },
    "kernelspec": {
      "name": "python3",
      "display_name": "Python 3"
    },
    "language_info": {
      "name": "python"
    }
  },
  "cells": [
    {
      "cell_type": "code",
      "metadata": {
        "id": "h7b3afiZETRL"
      },
      "source": [
        "#IMPORTAR LAS LIBRERIAS\n",
        "import pandas as pd\n",
        "from scipy import stats\n",
        "from tqdm import tqdm, trange, tqdm_notebook\n",
        "from tqdm.notebook import tqdm_notebook\n",
        "tqdm_notebook.pandas()\n",
        "import sys\n",
        "import time\n",
        "import scipy\n",
        "import scipy.stats"
      ],
      "execution_count": 1,
      "outputs": []
    },
    {
      "cell_type": "code",
      "metadata": {
        "id": "kHHekaKuEXmr"
      },
      "source": [
        "#IMPORTAR LOS DATOS\n",
        "df=pd.read_excel('data_final4.xlsx')"
      ],
      "execution_count": 2,
      "outputs": []
    },
    {
      "cell_type": "code",
      "source": [
        "#CREAR UN DATAFRAME PARA RESULTADOS DE HIPOTESIS\n",
        "df2 = pd.DataFrame(df.describe(include='all'))"
      ],
      "metadata": {
        "id": "FOUt6hLVLHnr"
      },
      "execution_count": 4,
      "outputs": []
    },
    {
      "cell_type": "code",
      "source": [
        "#Resultados En general y por Universidad\n",
        "df_t=df[['Citas','Originalidad','Obsololescencia','Versiones',\n",
        "           'Porcentaje_viz_espe','similitud_DSA','similitud_DSI', 'similitud_DSG', \n",
        "           'similitud_DSE', 'similitud_DSC','similitud_DCUBE', 'similitud_C0NCYTEC']]"
      ],
      "metadata": {
        "id": "GEhBpjZXjN6R"
      },
      "execution_count": 5,
      "outputs": []
    },
    {
      "cell_type": "code",
      "source": [
        "#Promedio de citas > 1\n",
        "cita=stats.ttest_1samp(df_t['Citas'],1)\n",
        "#Promedio de Originalidad < 24%\n",
        "orig=stats.ttest_1samp(df_t['Originalidad'],0.24)\n",
        "#Promedio de versiones > 1\n",
        "ver=stats.ttest_1samp(df_t['Versiones'],1)\n",
        "#Promedio de visualizaciones > 4% local\n",
        "viz=stats.ttest_1samp(df_t['Porcentaje_viz_espe'],0.04)\n",
        "#Promedio similitud_DCUBE\n",
        "dcu=stats.ttest_1samp(df_t['similitud_DCUBE'],0.75)\n",
        "#Promedio similitud_C0NCYTEC\n",
        "concy=stats.ttest_1samp(df_t['similitud_C0NCYTEC'],0.75)\n",
        "#Promedio similitud_DSA\n",
        "dsa=stats.ttest_1samp(df_t['similitud_DSA'],0.75)\n",
        "#Promedio similitud_DSI\n",
        "dsi=stats.ttest_1samp(df_t['similitud_DSI'],0.75)\n",
        "#Promedio similitud_DSG\n",
        "dsg=stats.ttest_1samp(df_t['similitud_DSG'],0.75)\n",
        "#Promedio similitud_DSE\n",
        "dse=stats.ttest_1samp(df_t['similitud_DSE'],0.75)\n",
        "#Promedio similitud_DSC\n",
        "dsc=stats.ttest_1samp(df_t['similitud_DSC'],0.75)"
      ],
      "metadata": {
        "id": "yazGZc6PjCw-"
      },
      "execution_count": 6,
      "outputs": []
    },
    {
      "cell_type": "code",
      "source": [
        "hipo_=['Citas','Originalidad','Versiones','Porcentaje_viz_espe','similitud_DSA',\n",
        "       'similitud_DSI', 'similitud_DSG','similitud_DSE', 'similitud_DSC',\n",
        "       'similitud_DCUBE', 'similitud_C0NCYTEC']\n",
        "hipo=pd.DataFrame(hipo_,columns={'Variable'})#,'Z','P-VALUE'})\n",
        "hipo['Z']=[cita[0],orig[0],ver[0],viz[0],dcu[0],concy[0],dsa[0],dsi[0],dsg[0],dse[0],dsc[0]]\n",
        "hipo['P-VALUE']=[cita[1],orig[1],ver[1],viz[1],dcu[1],concy[1],dsa[1],dsi[1],dsg[1],dse[1],dsc[1]]"
      ],
      "metadata": {
        "id": "U3z925uKxwb1"
      },
      "execution_count": 7,
      "outputs": []
    },
    {
      "cell_type": "code",
      "source": [
        " ##Con un valor p de 10 ^ -28 podemos afirmar que la media poblacional para el CI (medida del VIQ) no es 0.\n",
        "def columna_reject(pvalue):\n",
        "  if pvalue < 0.05:    # alpha value is 0.05 or 5%\n",
        "    s=\"Se rechaza la hipotesis nula\"\n",
        "  else:\n",
        "    s=\"Se acepta la hipotesis nula\"\n",
        "  return s"
      ],
      "metadata": {
        "id": "D0cc3gHhQDn7"
      },
      "execution_count": 10,
      "outputs": []
    },
    {
      "cell_type": "code",
      "source": [
        "hipo['Rejection']=hipo['Variable'].progress_apply(lambda x: columna_reject(x))"
      ],
      "metadata": {
        "id": "KcZNy4jvRABz"
      },
      "execution_count": 12,
      "outputs": []
    },
    {
      "cell_type": "code",
      "source": [
        "df2 = pd.DataFrame(df.describe(include='all'))"
      ],
      "metadata": {
        "id": "tWyr5uUhRBD1"
      },
      "execution_count": null,
      "outputs": []
    },
    {
      "cell_type": "code",
      "source": [
        "df2.to_excel('data_describe.xlsx')\n",
        "hipo.to_excel('data_hipotesis.xlsx')"
      ],
      "metadata": {
        "id": "nXvzHacq26ZR"
      },
      "execution_count": null,
      "outputs": []
    }
  ]
}